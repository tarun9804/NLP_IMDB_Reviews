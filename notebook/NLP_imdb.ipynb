{
 "cells": [
  {
   "cell_type": "markdown",
   "id": "5b65df6d-f44e-4006-b0e8-50d0b28415a1",
   "metadata": {},
   "source": [
    "# NLP Project\n",
    "## dataset IMDB reviews\n",
    "objective to predict if the reviews are positive or negative"
   ]
  },
  {
   "cell_type": "code",
   "execution_count": 1,
   "id": "f84c123a-8016-4f08-a8ad-9f7d040cb01d",
   "metadata": {},
   "outputs": [
    {
     "name": "stdout",
     "output_type": "stream",
     "text": [
      "WARNING:tensorflow:From C:\\Users\\Asus\\anaconda3\\Lib\\site-packages\\keras\\src\\losses.py:2976: The name tf.losses.sparse_softmax_cross_entropy is deprecated. Please use tf.compat.v1.losses.sparse_softmax_cross_entropy instead.\n",
      "\n"
     ]
    }
   ],
   "source": [
    "import numpy as np\n",
    "import pandas as pd\n",
    "import seaborn as sns\n",
    "import tensorflow as tf\n",
    "\n",
    "from tensorflow.keras.preprocessing.text import Tokenizer\n",
    "from tensorflow.keras.preprocessing.sequence import pad_sequences\n",
    "import tensorflow_datasets as tfds"
   ]
  },
  {
   "cell_type": "code",
   "execution_count": 2,
   "id": "95a0f0b7-1dc0-45ef-87fd-c73eefb15374",
   "metadata": {},
   "outputs": [],
   "source": [
    "imdb,info = tfds.load('imdb_reviews',as_supervised=True,with_info=True)"
   ]
  },
  {
   "cell_type": "code",
   "execution_count": 3,
   "id": "30dc31e8-d44b-43db-b5ba-23436814a38c",
   "metadata": {},
   "outputs": [
    {
     "data": {
      "text/plain": [
       "dict"
      ]
     },
     "execution_count": 3,
     "metadata": {},
     "output_type": "execute_result"
    }
   ],
   "source": [
    "type(imdb)"
   ]
  },
  {
   "cell_type": "code",
   "execution_count": 4,
   "id": "040d902c-3bf6-4f05-ab18-d8be95d1a70a",
   "metadata": {},
   "outputs": [
    {
     "data": {
      "text/plain": [
       "dict_keys(['train', 'test', 'unsupervised'])"
      ]
     },
     "execution_count": 4,
     "metadata": {},
     "output_type": "execute_result"
    }
   ],
   "source": [
    "imdb.keys()"
   ]
  },
  {
   "cell_type": "code",
   "execution_count": 5,
   "id": "b99e386a-82e5-431f-980d-add5f7449e43",
   "metadata": {},
   "outputs": [
    {
     "data": {
      "text/plain": [
       "tensorflow.python.data.ops.prefetch_op._PrefetchDataset"
      ]
     },
     "execution_count": 5,
     "metadata": {},
     "output_type": "execute_result"
    }
   ],
   "source": [
    "type(imdb['train'])"
   ]
  },
  {
   "cell_type": "code",
   "execution_count": 6,
   "id": "a9c46286-2cef-411a-af38-2f8b6ab7afdd",
   "metadata": {},
   "outputs": [],
   "source": [
    "train = imdb['train']\n",
    "test = imdb['test']"
   ]
  },
  {
   "cell_type": "code",
   "execution_count": 7,
   "id": "983edd37-d9f4-48bd-981f-a643997effea",
   "metadata": {},
   "outputs": [
    {
     "data": {
      "text/plain": [
       "tensorflow.python.data.ops.prefetch_op._PrefetchDataset"
      ]
     },
     "execution_count": 7,
     "metadata": {},
     "output_type": "execute_result"
    }
   ],
   "source": [
    "type(train)"
   ]
  },
  {
   "cell_type": "code",
   "execution_count": 8,
   "id": "6164a372-2336-431a-b8ae-4c8b3c446f8b",
   "metadata": {},
   "outputs": [
    {
     "name": "stdout",
     "output_type": "stream",
     "text": [
      "tf.Tensor(0, shape=(), dtype=int64)\n",
      "tf.Tensor(0, shape=(), dtype=int64)\n",
      "tf.Tensor(0, shape=(), dtype=int64)\n"
     ]
    }
   ],
   "source": [
    "j=0\n",
    "for i in train:\n",
    "    print(i[1])\n",
    "    j+=1\n",
    "    if j>2:\n",
    "        break"
   ]
  },
  {
   "cell_type": "code",
   "execution_count": 9,
   "id": "eff90fa9-4866-430d-a883-654a0a2710e8",
   "metadata": {},
   "outputs": [],
   "source": [
    "train_sentence = []\n",
    "train_label = []\n",
    "test_sentence = []\n",
    "test_labels = []"
   ]
  },
  {
   "cell_type": "code",
   "execution_count": 10,
   "id": "0aefe831-24a2-4274-8f87-e1d9a7a9cde2",
   "metadata": {},
   "outputs": [],
   "source": [
    "for rev,label in train:\n",
    "    train_sentence.append(rev.numpy().decode('utf8'))\n",
    "    train_label.append(label.numpy())"
   ]
  },
  {
   "cell_type": "code",
   "execution_count": 11,
   "id": "b8d29cc2-007e-481e-9b53-da22d68e7982",
   "metadata": {},
   "outputs": [],
   "source": [
    "for rev,label in test:\n",
    "    test_sentence.append(rev.numpy().decode('utf8'))\n",
    "    test_labels.append(label.numpy())"
   ]
  },
  {
   "cell_type": "code",
   "execution_count": 12,
   "id": "2d6c555a-3f8a-410f-904b-ab1226178763",
   "metadata": {},
   "outputs": [
    {
     "data": {
      "text/plain": [
       "\"This was an absolutely terrible movie. Don't be lured in by Christopher Walken or Michael Ironside. Both are great actors, but this must simply be their worst role in history. Even their great acting could not redeem this movie's ridiculous storyline. This movie is an early nineties US propaganda piece. The most pathetic scenes were those when the Columbian rebels were making their cases for revolutions. Maria Conchita Alonso appeared phony, and her pseudo-love affair with Walken was nothing but a pathetic emotional plug in a movie that was devoid of any real meaning. I am disappointed that there are movies like this, ruining actor's like Christopher Walken's good name. I could barely sit through it.\""
      ]
     },
     "execution_count": 12,
     "metadata": {},
     "output_type": "execute_result"
    }
   ],
   "source": [
    "train_sentence[0]"
   ]
  },
  {
   "cell_type": "code",
   "execution_count": 14,
   "id": "2e80624e-311e-4317-9ab7-47fbaee2e781",
   "metadata": {},
   "outputs": [],
   "source": [
    "# Tokenization\n",
    "token = Tokenizer(oov_token='#OOV')\n",
    "token.fit_on_texts(train_sentence)"
   ]
  },
  {
   "cell_type": "code",
   "execution_count": 15,
   "id": "a6a4305c-7cd5-404a-a8f3-ffe8af0fe3f9",
   "metadata": {},
   "outputs": [],
   "source": [
    "# Squencing\n",
    "train_seq = token.texts_to_sequences(train_sentence)\n",
    "test_seq = token.texts_to_sequences(test_sentence)"
   ]
  },
  {
   "cell_type": "code",
   "execution_count": null,
   "id": "ad8d7c9a-b52d-402e-bf04-34283d80c89f",
   "metadata": {},
   "outputs": [],
   "source": []
  },
  {
   "cell_type": "code",
   "execution_count": 19,
   "id": "2cc7f030-d4a9-47b5-8264-f3b9d9fa82d2",
   "metadata": {},
   "outputs": [],
   "source": [
    "# padding\n",
    "train_seq = pad_sequences(train_seq,maxlen=150)\n",
    "train_seq = pad_sequences(test_seq,maxlen=150)"
   ]
  },
  {
   "cell_type": "code",
   "execution_count": 22,
   "id": "698c16d1-2d7b-4c25-a650-0648e9bbbb51",
   "metadata": {},
   "outputs": [
    {
     "data": {
      "text/plain": [
       "numpy.ndarray"
      ]
     },
     "execution_count": 22,
     "metadata": {},
     "output_type": "execute_result"
    }
   ],
   "source": [
    "type(train_seq)"
   ]
  },
  {
   "cell_type": "markdown",
   "id": "3c6c7f84-5f27-4656-bb2a-c76961fb4e85",
   "metadata": {},
   "source": [
    "# Training LSTM model"
   ]
  },
  {
   "cell_type": "code",
   "execution_count": 23,
   "id": "7a652695-d651-4461-b036-56cebe07da4b",
   "metadata": {},
   "outputs": [],
   "source": [
    "from tensorflow.keras.layers import Dense, Bidirectional, LSTM, Embedding"
   ]
  },
  {
   "cell_type": "code",
   "execution_count": 24,
   "id": "f11f6b1d-0d9f-4036-9711-a9625cd02da2",
   "metadata": {},
   "outputs": [],
   "source": [
    "# Feature extractor and Probabitlity mapper"
   ]
  },
  {
   "cell_type": "code",
   "execution_count": null,
   "id": "c4d608a1-4688-4911-8c19-5dcb7d47cdc6",
   "metadata": {},
   "outputs": [],
   "source": [
    "model = tf.keras.Sequential()"
   ]
  }
 ],
 "metadata": {
  "kernelspec": {
   "display_name": "Python 3 (ipykernel)",
   "language": "python",
   "name": "python3"
  },
  "language_info": {
   "codemirror_mode": {
    "name": "ipython",
    "version": 3
   },
   "file_extension": ".py",
   "mimetype": "text/x-python",
   "name": "python",
   "nbconvert_exporter": "python",
   "pygments_lexer": "ipython3",
   "version": "3.11.5"
  }
 },
 "nbformat": 4,
 "nbformat_minor": 5
}
