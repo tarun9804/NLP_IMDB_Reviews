{
 "cells": [
  {
   "cell_type": "markdown",
   "id": "5b65df6d-f44e-4006-b0e8-50d0b28415a1",
   "metadata": {},
   "source": [
    "# NLP Project\n",
    "## dataset IMDB reviews\n",
    "objective to predict if the reviews are positive or negative"
   ]
  },
  {
   "cell_type": "code",
   "execution_count": 1,
   "id": "f84c123a-8016-4f08-a8ad-9f7d040cb01d",
   "metadata": {},
   "outputs": [
    {
     "name": "stdout",
     "output_type": "stream",
     "text": [
      "WARNING:tensorflow:From C:\\Users\\Asus\\anaconda3\\Lib\\site-packages\\keras\\src\\losses.py:2976: The name tf.losses.sparse_softmax_cross_entropy is deprecated. Please use tf.compat.v1.losses.sparse_softmax_cross_entropy instead.\n",
      "\n"
     ]
    }
   ],
   "source": [
    "import numpy as np\n",
    "import pandas as pd\n",
    "import seaborn as sns\n",
    "import tensorflow as tf\n",
    "\n",
    "from tensorflow.keras.preprocessing.text import Tokenizer\n",
    "from tensorflow.keras.preprocessing.sequence import pad_sequences\n",
    "import tensorflow_datasets as tfds"
   ]
  },
  {
   "cell_type": "code",
   "execution_count": 2,
   "id": "95a0f0b7-1dc0-45ef-87fd-c73eefb15374",
   "metadata": {},
   "outputs": [],
   "source": [
    "imdb,info = tfds.load('imdb_reviews',as_supervised=True,with_info=True)"
   ]
  },
  {
   "cell_type": "code",
   "execution_count": 3,
   "id": "30dc31e8-d44b-43db-b5ba-23436814a38c",
   "metadata": {},
   "outputs": [
    {
     "data": {
      "text/plain": [
       "dict"
      ]
     },
     "execution_count": 3,
     "metadata": {},
     "output_type": "execute_result"
    }
   ],
   "source": [
    "type(imdb)"
   ]
  },
  {
   "cell_type": "code",
   "execution_count": 4,
   "id": "040d902c-3bf6-4f05-ab18-d8be95d1a70a",
   "metadata": {},
   "outputs": [
    {
     "data": {
      "text/plain": [
       "dict_keys(['train', 'test', 'unsupervised'])"
      ]
     },
     "execution_count": 4,
     "metadata": {},
     "output_type": "execute_result"
    }
   ],
   "source": [
    "imdb.keys()"
   ]
  },
  {
   "cell_type": "code",
   "execution_count": 5,
   "id": "b99e386a-82e5-431f-980d-add5f7449e43",
   "metadata": {},
   "outputs": [
    {
     "data": {
      "text/plain": [
       "tensorflow.python.data.ops.prefetch_op._PrefetchDataset"
      ]
     },
     "execution_count": 5,
     "metadata": {},
     "output_type": "execute_result"
    }
   ],
   "source": [
    "type(imdb['train'])"
   ]
  },
  {
   "cell_type": "code",
   "execution_count": 6,
   "id": "a9c46286-2cef-411a-af38-2f8b6ab7afdd",
   "metadata": {},
   "outputs": [],
   "source": [
    "train = imdb['train']\n",
    "test = imdb['test']"
   ]
  },
  {
   "cell_type": "code",
   "execution_count": 7,
   "id": "983edd37-d9f4-48bd-981f-a643997effea",
   "metadata": {},
   "outputs": [
    {
     "data": {
      "text/plain": [
       "tensorflow.python.data.ops.prefetch_op._PrefetchDataset"
      ]
     },
     "execution_count": 7,
     "metadata": {},
     "output_type": "execute_result"
    }
   ],
   "source": [
    "type(train)"
   ]
  },
  {
   "cell_type": "code",
   "execution_count": 8,
   "id": "6164a372-2336-431a-b8ae-4c8b3c446f8b",
   "metadata": {},
   "outputs": [
    {
     "name": "stdout",
     "output_type": "stream",
     "text": [
      "tf.Tensor(0, shape=(), dtype=int64)\n",
      "tf.Tensor(0, shape=(), dtype=int64)\n",
      "tf.Tensor(0, shape=(), dtype=int64)\n"
     ]
    }
   ],
   "source": [
    "j=0\n",
    "for i in train:\n",
    "    print(i[1])\n",
    "    j+=1\n",
    "    if j>2:\n",
    "        break"
   ]
  },
  {
   "cell_type": "code",
   "execution_count": 9,
   "id": "eff90fa9-4866-430d-a883-654a0a2710e8",
   "metadata": {},
   "outputs": [],
   "source": [
    "train_sentence = []\n",
    "train_label = []\n",
    "test_sentence = []\n",
    "test_labels = []"
   ]
  },
  {
   "cell_type": "code",
   "execution_count": 10,
   "id": "0aefe831-24a2-4274-8f87-e1d9a7a9cde2",
   "metadata": {},
   "outputs": [],
   "source": [
    "for rev,label in train:\n",
    "    train_sentence.append(rev.numpy().decode('utf8'))\n",
    "    train_label.append(label.numpy())"
   ]
  },
  {
   "cell_type": "code",
   "execution_count": 11,
   "id": "b8d29cc2-007e-481e-9b53-da22d68e7982",
   "metadata": {},
   "outputs": [],
   "source": [
    "for rev,label in test:\n",
    "    test_sentence.append(rev.numpy().decode('utf8'))\n",
    "    test_labels.append(label.numpy())"
   ]
  },
  {
   "cell_type": "code",
   "execution_count": 35,
   "id": "2d6c555a-3f8a-410f-904b-ab1226178763",
   "metadata": {},
   "outputs": [],
   "source": [
    "train_label = np.array(train_label)\n",
    "test_labels = np.array(test_labels)"
   ]
  },
  {
   "cell_type": "code",
   "execution_count": 25,
   "id": "2e80624e-311e-4317-9ab7-47fbaee2e781",
   "metadata": {},
   "outputs": [],
   "source": [
    "# Tokenization\n",
    "token = Tokenizer(oov_token='#OOV',num_words = 10000)\n",
    "token.fit_on_texts(train_sentence)"
   ]
  },
  {
   "cell_type": "code",
   "execution_count": 26,
   "id": "a6a4305c-7cd5-404a-a8f3-ffe8af0fe3f9",
   "metadata": {},
   "outputs": [],
   "source": [
    "# Squencing\n",
    "train_seq = token.texts_to_sequences(train_sentence)\n",
    "test_seq = token.texts_to_sequences(test_sentence)"
   ]
  },
  {
   "cell_type": "code",
   "execution_count": null,
   "id": "ad8d7c9a-b52d-402e-bf04-34283d80c89f",
   "metadata": {},
   "outputs": [],
   "source": []
  },
  {
   "cell_type": "code",
   "execution_count": 31,
   "id": "2cc7f030-d4a9-47b5-8264-f3b9d9fa82d2",
   "metadata": {},
   "outputs": [],
   "source": [
    "# padding\n",
    "train_seq = pad_sequences(train_seq,maxlen=150)\n",
    "test_seq = pad_sequences(test_seq,maxlen=150)"
   ]
  },
  {
   "cell_type": "code",
   "execution_count": 28,
   "id": "698c16d1-2d7b-4c25-a650-0648e9bbbb51",
   "metadata": {},
   "outputs": [
    {
     "data": {
      "text/plain": [
       "numpy.ndarray"
      ]
     },
     "execution_count": 28,
     "metadata": {},
     "output_type": "execute_result"
    }
   ],
   "source": [
    "type(train_seq)"
   ]
  },
  {
   "cell_type": "markdown",
   "id": "3c6c7f84-5f27-4656-bb2a-c76961fb4e85",
   "metadata": {},
   "source": [
    "# Training LSTM model"
   ]
  },
  {
   "cell_type": "code",
   "execution_count": 23,
   "id": "7a652695-d651-4461-b036-56cebe07da4b",
   "metadata": {},
   "outputs": [],
   "source": [
    "from tensorflow.keras.layers import Dense, Bidirectional, LSTM, Embedding"
   ]
  },
  {
   "cell_type": "code",
   "execution_count": 24,
   "id": "f11f6b1d-0d9f-4036-9711-a9625cd02da2",
   "metadata": {},
   "outputs": [],
   "source": [
    "# Feature extractor and Probabitlity mapper"
   ]
  },
  {
   "cell_type": "code",
   "execution_count": 29,
   "id": "c4d608a1-4688-4911-8c19-5dcb7d47cdc6",
   "metadata": {},
   "outputs": [
    {
     "name": "stdout",
     "output_type": "stream",
     "text": [
      "WARNING:tensorflow:From C:\\Users\\Asus\\anaconda3\\Lib\\site-packages\\keras\\src\\backend.py:873: The name tf.get_default_graph is deprecated. Please use tf.compat.v1.get_default_graph instead.\n",
      "\n"
     ]
    },
    {
     "name": "stderr",
     "output_type": "stream",
     "text": [
      "WARNING:tensorflow:From C:\\Users\\Asus\\anaconda3\\Lib\\site-packages\\keras\\src\\backend.py:873: The name tf.get_default_graph is deprecated. Please use tf.compat.v1.get_default_graph instead.\n",
      "\n"
     ]
    },
    {
     "name": "stdout",
     "output_type": "stream",
     "text": [
      "Model: \"sequential\"\n",
      "_________________________________________________________________\n",
      " Layer (type)                Output Shape              Param #   \n",
      "=================================================================\n",
      " embedding (Embedding)       (None, 150, 16)           160000    \n",
      "                                                                 \n",
      " bidirectional (Bidirection  (None, 64)                12544     \n",
      " al)                                                             \n",
      "                                                                 \n",
      " dense (Dense)               (None, 16)                1040      \n",
      "                                                                 \n",
      " dense_1 (Dense)             (None, 1)                 17        \n",
      "                                                                 \n",
      "=================================================================\n",
      "Total params: 173601 (678.13 KB)\n",
      "Trainable params: 173601 (678.13 KB)\n",
      "Non-trainable params: 0 (0.00 Byte)\n",
      "_________________________________________________________________\n"
     ]
    }
   ],
   "source": [
    "model = tf.keras.Sequential()\n",
    "vocab_size = 10000\n",
    "# sequence of tokens we have is of lenth 150 because of padding\n",
    "# and it will generate a word vector of length 16 for each token\n",
    "# the word wchich has similar meaning will lie closer\n",
    "# to the vector\n",
    "embedding_dim = 16\n",
    "# Feature extractor\n",
    "model.add(Embedding(vocab_size,embedding_dim, input_length=150))\n",
    "# bidirectional means it will retain the information \n",
    "# both ways \n",
    "model.add(Bidirectional(LSTM(32)))\n",
    "\n",
    "# Probabitlity mapper\n",
    "model.add(Dense(16,activation='relu'))\n",
    "model.add(Dense(1,activation='sigmoid'))\n",
    "\n",
    "model.summary()"
   ]
  },
  {
   "cell_type": "code",
   "execution_count": 33,
   "id": "13624076-ada2-4004-8c1d-7ce7fe92ea17",
   "metadata": {},
   "outputs": [
    {
     "name": "stdout",
     "output_type": "stream",
     "text": [
      "WARNING:tensorflow:From C:\\Users\\Asus\\anaconda3\\Lib\\site-packages\\keras\\src\\optimizers\\__init__.py:309: The name tf.train.Optimizer is deprecated. Please use tf.compat.v1.train.Optimizer instead.\n",
      "\n"
     ]
    },
    {
     "name": "stderr",
     "output_type": "stream",
     "text": [
      "WARNING:tensorflow:From C:\\Users\\Asus\\anaconda3\\Lib\\site-packages\\keras\\src\\optimizers\\__init__.py:309: The name tf.train.Optimizer is deprecated. Please use tf.compat.v1.train.Optimizer instead.\n",
      "\n"
     ]
    }
   ],
   "source": [
    "# for multi calss classification \n",
    "# categorical_crossentory - when output label is one hot encoded\n",
    "# sparse_categorical_crossentropy - when its \"not\" one hot encoded\n",
    "\n",
    "model.compile(loss = 'binary_crossentropy',\n",
    "              optimizer = 'adam',\n",
    "              metrics = 'accuracy')"
   ]
  },
  {
   "cell_type": "code",
   "execution_count": 37,
   "id": "84523f5e-200c-4eb6-8c8a-0df675674c35",
   "metadata": {},
   "outputs": [
    {
     "data": {
      "text/plain": [
       "78.125"
      ]
     },
     "execution_count": 37,
     "metadata": {},
     "output_type": "execute_result"
    }
   ],
   "source": [
    "2500/32"
   ]
  },
  {
   "cell_type": "code",
   "execution_count": 36,
   "id": "0ac9849b-743b-4ee6-8672-0ac063ac662f",
   "metadata": {},
   "outputs": [
    {
     "name": "stdout",
     "output_type": "stream",
     "text": [
      "Epoch 1/10\n",
      "WARNING:tensorflow:From C:\\Users\\Asus\\anaconda3\\Lib\\site-packages\\keras\\src\\utils\\tf_utils.py:492: The name tf.ragged.RaggedTensorValue is deprecated. Please use tf.compat.v1.ragged.RaggedTensorValue instead.\n",
      "\n"
     ]
    },
    {
     "name": "stderr",
     "output_type": "stream",
     "text": [
      "WARNING:tensorflow:From C:\\Users\\Asus\\anaconda3\\Lib\\site-packages\\keras\\src\\utils\\tf_utils.py:492: The name tf.ragged.RaggedTensorValue is deprecated. Please use tf.compat.v1.ragged.RaggedTensorValue instead.\n",
      "\n"
     ]
    },
    {
     "name": "stdout",
     "output_type": "stream",
     "text": [
      "WARNING:tensorflow:From C:\\Users\\Asus\\anaconda3\\Lib\\site-packages\\keras\\src\\engine\\base_layer_utils.py:384: The name tf.executing_eagerly_outside_functions is deprecated. Please use tf.compat.v1.executing_eagerly_outside_functions instead.\n",
      "\n"
     ]
    },
    {
     "name": "stderr",
     "output_type": "stream",
     "text": [
      "WARNING:tensorflow:From C:\\Users\\Asus\\anaconda3\\Lib\\site-packages\\keras\\src\\engine\\base_layer_utils.py:384: The name tf.executing_eagerly_outside_functions is deprecated. Please use tf.compat.v1.executing_eagerly_outside_functions instead.\n",
      "\n"
     ]
    },
    {
     "name": "stdout",
     "output_type": "stream",
     "text": [
      "782/782 [==============================] - 49s 55ms/step - loss: 0.6934 - accuracy: 0.4989 - val_loss: 0.6931 - val_accuracy: 0.5004\n",
      "Epoch 2/10\n",
      "782/782 [==============================] - 41s 53ms/step - loss: 0.6905 - accuracy: 0.5308 - val_loss: 0.6989 - val_accuracy: 0.4983\n",
      "Epoch 3/10\n",
      "782/782 [==============================] - 41s 53ms/step - loss: 0.6298 - accuracy: 0.6399 - val_loss: 0.7830 - val_accuracy: 0.5026\n",
      "Epoch 4/10\n",
      "782/782 [==============================] - 41s 52ms/step - loss: 0.4996 - accuracy: 0.7488 - val_loss: 1.0234 - val_accuracy: 0.5028\n",
      "Epoch 5/10\n",
      "782/782 [==============================] - 41s 52ms/step - loss: 0.3703 - accuracy: 0.8262 - val_loss: 1.2918 - val_accuracy: 0.4983\n",
      "Epoch 6/10\n",
      "782/782 [==============================] - 41s 53ms/step - loss: 0.2645 - accuracy: 0.8824 - val_loss: 1.7786 - val_accuracy: 0.4988\n",
      "Epoch 7/10\n",
      "782/782 [==============================] - 42s 53ms/step - loss: 0.1911 - accuracy: 0.9171 - val_loss: 2.3641 - val_accuracy: 0.5025\n",
      "Epoch 8/10\n",
      "782/782 [==============================] - 42s 53ms/step - loss: 0.1399 - accuracy: 0.9403 - val_loss: 2.9479 - val_accuracy: 0.5013\n",
      "Epoch 9/10\n",
      "782/782 [==============================] - 42s 54ms/step - loss: 0.1091 - accuracy: 0.9527 - val_loss: 3.2699 - val_accuracy: 0.4989\n",
      "Epoch 10/10\n",
      "782/782 [==============================] - 41s 52ms/step - loss: 0.0857 - accuracy: 0.9634 - val_loss: 3.6394 - val_accuracy: 0.4997\n"
     ]
    }
   ],
   "source": [
    "# default batch_size is 32, i.e. 32 observation at a time, if not specified\n",
    "# iteration means with one sample, doing forward and backward processing.\n",
    "# it divides the length(2500) of data by 32, to get the number of iteration\n",
    "# it should be a whole number\n",
    "# in this case 2500/32 i.e. 78.125 iterations,  \n",
    "# to complete one one epoch it takes 782 iterations\n",
    "# because of this it will throw warning\n",
    "# make the number of iteration a whole number\n",
    "hist = model.fit(train_seq,train_label,\n",
    "                 validation_data=(test_seq,test_labels),\n",
    "                 epochs=10)"
   ]
  },
  {
   "cell_type": "code",
   "execution_count": 38,
   "id": "e4f30061-db42-45e2-971d-8bf7afaf752a",
   "metadata": {},
   "outputs": [
    {
     "name": "stdout",
     "output_type": "stream",
     "text": [
      "Epoch 1/10\n",
      "250/250 [==============================] - 18s 73ms/step - loss: 0.0488 - accuracy: 0.9781 - val_loss: 4.6825 - val_accuracy: 0.4991\n",
      "Epoch 2/10\n",
      "250/250 [==============================] - 18s 73ms/step - loss: 0.0347 - accuracy: 0.9845 - val_loss: 4.9214 - val_accuracy: 0.4993\n",
      "Epoch 3/10\n",
      "250/250 [==============================] - 18s 73ms/step - loss: 0.0295 - accuracy: 0.9869 - val_loss: 5.0435 - val_accuracy: 0.4989\n",
      "Epoch 4/10\n",
      "250/250 [==============================] - 18s 73ms/step - loss: 0.0249 - accuracy: 0.9893 - val_loss: 5.6276 - val_accuracy: 0.4995\n",
      "Epoch 5/10\n",
      "250/250 [==============================] - 19s 74ms/step - loss: 0.0240 - accuracy: 0.9897 - val_loss: 5.7162 - val_accuracy: 0.4991\n",
      "Epoch 6/10\n",
      "250/250 [==============================] - 20s 80ms/step - loss: 0.0189 - accuracy: 0.9914 - val_loss: 6.3789 - val_accuracy: 0.4997\n",
      "Epoch 7/10\n",
      "250/250 [==============================] - 18s 74ms/step - loss: 0.0179 - accuracy: 0.9919 - val_loss: 6.1691 - val_accuracy: 0.4988\n",
      "Epoch 8/10\n",
      "250/250 [==============================] - 18s 71ms/step - loss: 0.0160 - accuracy: 0.9928 - val_loss: 6.6204 - val_accuracy: 0.4989\n",
      "Epoch 9/10\n",
      "250/250 [==============================] - 19s 76ms/step - loss: 0.0155 - accuracy: 0.9934 - val_loss: 6.4754 - val_accuracy: 0.4988\n",
      "Epoch 10/10\n",
      "250/250 [==============================] - 18s 73ms/step - loss: 0.0141 - accuracy: 0.9937 - val_loss: 7.2858 - val_accuracy: 0.4989\n"
     ]
    }
   ],
   "source": [
    "hist = model.fit(train_seq,train_label,batch_size=100,\n",
    "                 validation_data=(test_seq,test_labels),\n",
    "                 epochs=10)"
   ]
  },
  {
   "cell_type": "code",
   "execution_count": 39,
   "id": "1037e694-7557-4321-b4f5-2d98e3c65dfa",
   "metadata": {},
   "outputs": [
    {
     "data": {
      "text/plain": [
       "dict"
      ]
     },
     "execution_count": 39,
     "metadata": {},
     "output_type": "execute_result"
    }
   ],
   "source": [
    "type(hist.history)"
   ]
  },
  {
   "cell_type": "code",
   "execution_count": 40,
   "id": "a6ba525f-66ef-49c9-83ba-4b5967025fd0",
   "metadata": {},
   "outputs": [
    {
     "data": {
      "text/plain": [
       "dict_keys(['loss', 'accuracy', 'val_loss', 'val_accuracy'])"
      ]
     },
     "execution_count": 40,
     "metadata": {},
     "output_type": "execute_result"
    }
   ],
   "source": [
    "hist.history.keys()"
   ]
  },
  {
   "cell_type": "code",
   "execution_count": 41,
   "id": "feea15d8-de84-494e-9096-045786974f0e",
   "metadata": {},
   "outputs": [
    {
     "data": {
      "text/plain": [
       "[0.04880193993449211,\n",
       " 0.03471220284700394,\n",
       " 0.029487820342183113,\n",
       " 0.024929609149694443,\n",
       " 0.02398541569709778,\n",
       " 0.018863538280129433,\n",
       " 0.01785368286073208,\n",
       " 0.016048379242420197,\n",
       " 0.015451900660991669,\n",
       " 0.01410292275249958]"
      ]
     },
     "execution_count": 41,
     "metadata": {},
     "output_type": "execute_result"
    }
   ],
   "source": [
    "hist.history['loss']"
   ]
  },
  {
   "cell_type": "code",
   "execution_count": 42,
   "id": "b473a114-35e3-4bfc-84e9-9ac60dd948a2",
   "metadata": {},
   "outputs": [],
   "source": [
    "import matplotlib.pyplot as plt"
   ]
  },
  {
   "cell_type": "code",
   "execution_count": 43,
   "id": "a68fc9ee-c7b0-421d-b3da-f5e56f271d35",
   "metadata": {},
   "outputs": [
    {
     "data": {
      "image/png": "[encoded data removed]",
      "text/plain": [
       "<Figure size 640x480 with 1 Axes>"
      ]
     },
     "metadata": {},
     "output_type": "display_data"
    }
   ],
   "source": [
    "plt.plot(hist.history['accuracy'], label=\"train_acc\")\n",
    "plt.plot(hist.history['val_accuracy'],label=\"test_acc\")\n",
    "plt.show()"
   ]
  },
  {
   "cell_type": "code",
   "execution_count": 45,
   "id": "70751b73-5768-4112-8e4f-c7c91e692e56",
   "metadata": {},
   "outputs": [
    {
     "data": {
      "image/png": "[encoded data removed]",
      "text/plain": [
       "<Figure size 640x480 with 1 Axes>"
      ]
     },
     "metadata": {},
     "output_type": "display_data"
    }
   ],
   "source": [
    "plt.plot(hist.history['loss'], label=\"train_acc\")\n",
    "plt.plot(hist.history['val_loss'],label=\"test_acc\")\n",
    "plt.show()"
   ]
  },
  {
   "cell_type": "code",
   "execution_count": 44,
   "id": "af8350da-17b5-4ea6-a7de-3df996d03f8a",
   "metadata": {},
   "outputs": [
    {
     "data": {
      "text/plain": [
       "dict_keys(['loss', 'accuracy', 'val_loss', 'val_accuracy'])"
      ]
     },
     "execution_count": 44,
     "metadata": {},
     "output_type": "execute_result"
    }
   ],
   "source": [
    "hist.history.keys()"
   ]
  },
  {
   "cell_type": "code",
   "execution_count": 46,
   "id": "e18d8b33-9052-4845-ada6-14fa07b28826",
   "metadata": {},
   "outputs": [
    {
     "name": "stdout",
     "output_type": "stream",
     "text": [
      "1/1 [==============================] - 1s 1s/step\n"
     ]
    },
    {
     "data": {
      "text/plain": [
       "array([[2.3961593e-11],\n",
       "       [1.5745172e-04],\n",
       "       [7.8224792e-07],\n",
       "       [9.9997246e-01],\n",
       "       [9.9999869e-01]], dtype=float32)"
      ]
     },
     "execution_count": 46,
     "metadata": {},
     "output_type": "execute_result"
    }
   ],
   "source": [
    "model.predict(test_seq[:5])"
   ]
  },
  {
   "cell_type": "code",
   "execution_count": 47,
   "id": "64b86a90-d2eb-4ddb-a165-3276afec714c",
   "metadata": {},
   "outputs": [],
   "source": [
    "# single dimensional input is not allowed"
   ]
  },
  {
   "cell_type": "code",
   "execution_count": 50,
   "id": "6279108f-f54d-41d3-8281-0e507372ffc6",
   "metadata": {},
   "outputs": [
    {
     "name": "stdout",
     "output_type": "stream",
     "text": [
      "1/1 [==============================] - 0s 33ms/step\n"
     ]
    },
    {
     "data": {
      "text/plain": [
       "[0, 0, 0, 1, 1]"
      ]
     },
     "execution_count": 50,
     "metadata": {},
     "output_type": "execute_result"
    }
   ],
   "source": [
    "[1 if i>0.5 else 0 for i in model.predict(test_seq[0:5])]"
   ]
  },
  {
   "cell_type": "code",
   "execution_count": 49,
   "id": "d69ab6e1-85f3-47e8-b03f-fbf55fbce705",
   "metadata": {},
   "outputs": [
    {
     "data": {
      "text/plain": [
       "[0, 0, 0, 1, 1]"
      ]
     },
     "execution_count": 49,
     "metadata": {},
     "output_type": "execute_result"
    }
   ],
   "source": [
    "x"
   ]
  },
  {
   "cell_type": "code",
   "execution_count": 51,
   "id": "a6022827-6cb4-439c-8363-4b94168e43c9",
   "metadata": {},
   "outputs": [
    {
     "data": {
      "text/plain": [
       "array([1, 1, 0, 0, 1], dtype=int64)"
      ]
     },
     "execution_count": 51,
     "metadata": {},
     "output_type": "execute_result"
    }
   ],
   "source": [
    "test_labels[0:5]"
   ]
  },
  {
   "cell_type": "code",
   "execution_count": null,
   "id": "cb809f26-f6a2-42e4-bcce-d17460a236ca",
   "metadata": {},
   "outputs": [],
   "source": []
  }
 ],
 "metadata": {
  "kernelspec": {
   "display_name": "Python 3 (ipykernel)",
   "language": "python",
   "name": "python3"
  },
  "language_info": {
   "codemirror_mode": {
    "name": "ipython",
    "version": 3
   },
   "file_extension": ".py",
   "mimetype": "text/x-python",
   "name": "python",
   "nbconvert_exporter": "python",
   "pygments_lexer": "ipython3",
   "version": "3.11.5"
  }
 },
 "nbformat": 4,
 "nbformat_minor": 5
}
